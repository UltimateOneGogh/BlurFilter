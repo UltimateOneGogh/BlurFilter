{
 "cells": [
  {
   "cell_type": "code",
   "execution_count": 22,
   "metadata": {},
   "outputs": [],
   "source": [
    "import os\n",
    "import cv2\n",
    "from PIL import Image\n",
    "import numpy as np\n",
    "from tqdm import tqdm\n",
    "import random\n",
    "from sklearn.model_selection import train_test_split"
   ]
  },
  {
   "cell_type": "code",
   "execution_count": 34,
   "metadata": {
    "tags": []
   },
   "outputs": [],
   "source": [
    "def get_samples(path, train_size=0.8, prop_size=0.02):\n",
    "    files = []\n",
    "    for f in os.listdir(path):\n",
    "        if (\".png\" in f) or (\".jpg\" in f) or (\".jpeg\" in f):\n",
    "                if random.random() <= prop_size:\n",
    "                    files.append(os.path.join(path, f))\n",
    "    train, test = train_test_split(files, train_size=train_size)\n",
    "    return train, test\n",
    "\n",
    "\n",
    "\n",
    "def blur_and_save(files, save_name, blur_level):\n",
    "    precise_data = np.ndarray(shape=(len(files), 256, 256, 3), dtype=np.float32)\n",
    "    blurred_data = np.ndarray(shape=(len(files), 256, 256, 3), dtype=np.float32)\n",
    "    for i in tqdm(range(len(files))):\n",
    "        try:        \n",
    "            img = np.array(Image.open(files[i]))\n",
    "            img = img[(img.shape[0] // 2 - 256 // 2):(img.shape[0] // 2 + 256 // 2),\n",
    "                      (img.shape[1] // 2 - 256 // 2):(img.shape[1] // 2 + 256 // 2), :]\n",
    "            blurred = cv2.blur(img, (blur_level, blur_level))\n",
    "                        \n",
    "            precise_data[i] = img\n",
    "            blurred_data[i] = blurred\n",
    "        except Exception as e:\n",
    "            print(e) \n",
    "    \n",
    "    np.save(f\"data/{save_name}_precise_{len(files)}.npy\", precise_data)\n",
    "    np.save(f\"data/{save_name}_blurred_{len(files)}.npy\", blurred_data)"
   ]
  },
  {
   "cell_type": "code",
   "execution_count": 35,
   "metadata": {},
   "outputs": [
    {
     "data": {
      "text/plain": [
       "(5350, 1338)"
      ]
     },
     "execution_count": 35,
     "metadata": {},
     "output_type": "execute_result"
    }
   ],
   "source": [
    "train, test = get_samples(\"/home/ruslan/place_dataset/test_256\")\n",
    "len(train), len(test)"
   ]
  },
  {
   "cell_type": "code",
   "execution_count": 21,
   "metadata": {},
   "outputs": [
    {
     "name": "stdout",
     "output_type": "stream",
     "text": [
      "4922\n"
     ]
    }
   ],
   "source": [
    "blur_and_save(\"/home/ruslan/place_dataset/test_256\", \"\", 1)"
   ]
  },
  {
   "cell_type": "code",
   "execution_count": 36,
   "metadata": {
    "tags": [
     "outputPrepend"
    ]
   },
   "outputs": [
    {
     "name": "stderr",
     "output_type": "stream",
     "text": [
      "  1%|          | 57/5350 [00:00<01:05, 80.67it/s]"
     ]
    },
    {
     "name": "stdout",
     "output_type": "stream",
     "text": [
      "too many indices for array\n"
     ]
    },
    {
     "name": "stderr",
     "output_type": "stream",
     "text": [
      " 14%|█▍        | 748/5350 [00:04<00:52, 88.18it/s] "
     ]
    },
    {
     "name": "stdout",
     "output_type": "stream",
     "text": [
      "too many indices for array\n"
     ]
    },
    {
     "name": "stderr",
     "output_type": "stream",
     "text": [
      " 15%|█▍        | 799/5350 [00:05<01:18, 57.67it/s]"
     ]
    },
    {
     "name": "stdout",
     "output_type": "stream",
     "text": [
      "too many indices for array\n"
     ]
    },
    {
     "name": "stderr",
     "output_type": "stream",
     "text": [
      " 26%|██▌       | 1399/5350 [00:23<02:13, 29.55it/s]"
     ]
    },
    {
     "name": "stdout",
     "output_type": "stream",
     "text": [
      "too many indices for array\n"
     ]
    },
    {
     "name": "stderr",
     "output_type": "stream",
     "text": [
      " 40%|████      | 2143/5350 [00:50<03:25, 15.62it/s]"
     ]
    },
    {
     "name": "stdout",
     "output_type": "stream",
     "text": [
      "too many indices for array\n"
     ]
    },
    {
     "name": "stderr",
     "output_type": "stream",
     "text": [
      " 41%|████▏     | 2212/5350 [00:53<02:20, 22.37it/s]"
     ]
    },
    {
     "name": "stdout",
     "output_type": "stream",
     "text": [
      "too many indices for array\n"
     ]
    },
    {
     "name": "stderr",
     "output_type": "stream",
     "text": [
      " 44%|████▎     | 2331/5350 [00:57<01:21, 36.87it/s]"
     ]
    },
    {
     "name": "stdout",
     "output_type": "stream",
     "text": [
      "too many indices for array\n"
     ]
    },
    {
     "name": "stderr",
     "output_type": "stream",
     "text": [
      " 44%|████▍     | 2357/5350 [00:57<01:45, 28.34it/s]"
     ]
    },
    {
     "name": "stdout",
     "output_type": "stream",
     "text": [
      "too many indices for array\n"
     ]
    },
    {
     "name": "stderr",
     "output_type": "stream",
     "text": [
      " 52%|█████▏    | 2787/5350 [01:17<01:52, 22.71it/s]"
     ]
    },
    {
     "name": "stdout",
     "output_type": "stream",
     "text": [
      "too many indices for array\n"
     ]
    },
    {
     "name": "stderr",
     "output_type": "stream",
     "text": [
      " 56%|█████▌    | 2989/5350 [01:23<01:11, 32.93it/s]"
     ]
    },
    {
     "name": "stdout",
     "output_type": "stream",
     "text": [
      "too many indices for array\n"
     ]
    },
    {
     "name": "stderr",
     "output_type": "stream",
     "text": [
      " 60%|█████▉    | 3202/5350 [01:30<00:57, 37.61it/s]"
     ]
    },
    {
     "name": "stdout",
     "output_type": "stream",
     "text": [
      "too many indices for array\n"
     ]
    },
    {
     "name": "stderr",
     "output_type": "stream",
     "text": [
      " 60%|██████    | 3214/5350 [01:31<00:56, 37.88it/s]"
     ]
    },
    {
     "name": "stdout",
     "output_type": "stream",
     "text": [
      "too many indices for array\n"
     ]
    },
    {
     "name": "stderr",
     "output_type": "stream",
     "text": [
      " 75%|███████▌  | 4024/5350 [02:01<00:40, 33.07it/s]"
     ]
    },
    {
     "name": "stdout",
     "output_type": "stream",
     "text": [
      "too many indices for array\n"
     ]
    },
    {
     "name": "stderr",
     "output_type": "stream",
     "text": [
      " 82%|████████▏ | 4391/5350 [02:16<00:51, 18.73it/s]"
     ]
    },
    {
     "name": "stdout",
     "output_type": "stream",
     "text": [
      "too many indices for array\n"
     ]
    },
    {
     "name": "stderr",
     "output_type": "stream",
     "text": [
      " 89%|████████▉ | 4754/5350 [02:30<00:19, 29.86it/s]"
     ]
    },
    {
     "name": "stdout",
     "output_type": "stream",
     "text": [
      "too many indices for array\n"
     ]
    },
    {
     "name": "stderr",
     "output_type": "stream",
     "text": [
      " 94%|█████████▎| 5008/5350 [02:41<00:14, 22.90it/s]"
     ]
    },
    {
     "name": "stdout",
     "output_type": "stream",
     "text": [
      "too many indices for array\n"
     ]
    },
    {
     "name": "stderr",
     "output_type": "stream",
     "text": [
      "100%|██████████| 5350/5350 [02:54<00:00, 30.70it/s]\n",
      "  5%|▍         | 64/1338 [00:00<00:25, 50.61it/s]"
     ]
    },
    {
     "name": "stdout",
     "output_type": "stream",
     "text": [
      "too many indices for array\n"
     ]
    },
    {
     "name": "stderr",
     "output_type": "stream",
     "text": [
      " 38%|███▊      | 507/1338 [00:01<00:02, 294.41it/s]"
     ]
    },
    {
     "name": "stdout",
     "output_type": "stream",
     "text": [
      "too many indices for array\n"
     ]
    },
    {
     "name": "stderr",
     "output_type": "stream",
     "text": [
      " 78%|███████▊  | 1040/1338 [00:03<00:00, 301.20it/s]"
     ]
    },
    {
     "name": "stdout",
     "output_type": "stream",
     "text": [
      "too many indices for array\n"
     ]
    },
    {
     "name": "stderr",
     "output_type": "stream",
     "text": [
      "100%|██████████| 1338/1338 [00:05<00:00, 257.35it/s]\n"
     ]
    }
   ],
   "source": [
    "blur_and_save(train, \"train_data\", blur_level=14)\n",
    "blur_and_save(test, \"test_data\", blur_level=14)"
   ]
  },
  {
   "cell_type": "code",
   "execution_count": null,
   "metadata": {},
   "outputs": [],
   "source": []
  }
 ],
 "metadata": {
  "kernelspec": {
   "display_name": "Python 3",
   "language": "python",
   "name": "python3"
  },
  "language_info": {
   "codemirror_mode": {
    "name": "ipython",
    "version": 3
   },
   "file_extension": ".py",
   "mimetype": "text/x-python",
   "name": "python",
   "nbconvert_exporter": "python",
   "pygments_lexer": "ipython3",
   "version": "3.8.5"
  }
 },
 "nbformat": 4,
 "nbformat_minor": 4
}
